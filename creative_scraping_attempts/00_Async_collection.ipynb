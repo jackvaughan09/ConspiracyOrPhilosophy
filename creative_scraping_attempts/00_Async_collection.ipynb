{
 "cells": [
  {
   "cell_type": "code",
   "execution_count": 5,
   "metadata": {},
   "outputs": [],
   "source": [
    "import asyncio\n",
    "import aiohttp\n",
    "import pandas as pd"
   ]
  },
  {
   "cell_type": "code",
   "execution_count": 6,
   "metadata": {},
   "outputs": [],
   "source": [
    "async def fetch_data(subreddit, params, last_utc):\n",
    "    base_url = 'https://api.pushshift.io/reddit/search/submission'\n",
    "    p_string = '&'.join([f'{k}={v}' for k, v in params.items()])\n",
    "    \n",
    "    if last_utc:\n",
    "        # update the p-string to get the next batch\n",
    "        params['before'] = last_utc\n",
    "        p_string = '&'.join([f'{k}={v}' for k, v in params.items()])\n",
    "    \n",
    "    async with aiohttp.ClientSession() as session:\n",
    "        async with session.get(f'{base_url}?subreddit={subreddit}&size=500&{p_string}') as response:\n",
    "            data = await response.json()\n",
    "            return pd.DataFrame(data['data'])\n",
    "\n",
    "async def get_posts(subreddit: str, n: int, params: dict) -> pd.DataFrame:\n",
    "    \"\"\"Download posts from a subreddit using the Pushshift API\n",
    "\n",
    "    Args:\n",
    "        subreddit (str): subreddit to scrape\n",
    "        n (int): number requests to make (500 posts per request)\n",
    "        params (dict): dictionary of parameters to pass to the API excluding subreddit and size\n",
    "    \"\"\"\n",
    "    dfs = []\n",
    "    last_utc = None\n",
    "    \n",
    "    tasks = []\n",
    "    for i in range(n):\n",
    "        task = asyncio.create_task(fetch_data(subreddit, params, last_utc))\n",
    "        tasks.append(task)\n",
    "        \n",
    "        df = await task\n",
    "        if df.empty:\n",
    "            break\n",
    "        \n",
    "        dfs.append(df)\n",
    "            \n",
    "    return pd.concat(dfs).drop_duplicates(subset='title').reset_index(drop=True)\n",
    "\n",
    "async def run():\n",
    "    subreddit = 'conspiracy'\n",
    "    n = 50\n",
    "    params = {'sort_type': 'score', 'metadata': False, 'after':'1y'}\n",
    "    df = await get_posts(subreddit, n, params)\n",
    "    print(df)\n",
    "    \n",
    "if __name__ == '__main__':\n",
    "    loop = asyncio.get_event_loop()\n",
    "    # loop.run_until_complete(run())\n"
   ]
  },
  {
   "cell_type": "code",
   "execution_count": null,
   "metadata": {},
   "outputs": [],
   "source": []
  },
  {
   "cell_type": "code",
   "execution_count": null,
   "metadata": {},
   "outputs": [],
   "source": []
  },
  {
   "cell_type": "code",
   "execution_count": null,
   "metadata": {},
   "outputs": [],
   "source": []
  },
  {
   "cell_type": "code",
   "execution_count": null,
   "metadata": {},
   "outputs": [],
   "source": []
  }
 ],
 "metadata": {
  "kernelspec": {
   "display_name": "base",
   "language": "python",
   "name": "python3"
  },
  "language_info": {
   "codemirror_mode": {
    "name": "ipython",
    "version": 3
   },
   "file_extension": ".py",
   "mimetype": "text/x-python",
   "name": "python",
   "nbconvert_exporter": "python",
   "pygments_lexer": "ipython3",
   "version": "3.9.13"
  },
  "orig_nbformat": 4,
  "vscode": {
   "interpreter": {
    "hash": "b3c7b07dae44ced03ae164a813c56a3bbf965db406ab962c1a4ad4a98feef9e4"
   }
  }
 },
 "nbformat": 4,
 "nbformat_minor": 2
}
