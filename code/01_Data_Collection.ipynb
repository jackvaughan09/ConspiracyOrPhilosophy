{
 "cells": [
  {
   "attachments": {},
   "cell_type": "markdown",
   "metadata": {},
   "source": [
    "# Data Collection Notebook"
   ]
  },
  {
   "attachments": {},
   "cell_type": "markdown",
   "metadata": {},
   "source": [
    "We will be using Pushshift, a free and open source API that allows users to access data from Reddit."
   ]
  },
  {
   "attachments": {},
   "cell_type": "markdown",
   "metadata": {},
   "source": [
    "## Imports"
   ]
  },
  {
   "cell_type": "code",
   "execution_count": 33,
   "metadata": {},
   "outputs": [],
   "source": [
    "import pandas as pd\n",
    "import requests\n",
    "import time"
   ]
  },
  {
   "attachments": {},
   "cell_type": "markdown",
   "metadata": {},
   "source": [
    "## Scraping Function"
   ]
  },
  {
   "cell_type": "code",
   "execution_count": 34,
   "metadata": {},
   "outputs": [],
   "source": [
    "# NOTE: I've had no issues with the number of requests/sec, but if you do, you can\n",
    "# throttle your requests by uncommenting the sleep statement in the loop below\n",
    "\n",
    "def get_posts(subreddit: str, n: int, params: dict)->pd.DataFrame:\n",
    "    \"\"\"Download posts from a subreddit using the Pushshift API\n",
    "\n",
    "    Args:\n",
    "        subreddit (str): subreddit to scrape\n",
    "        n (int): number requests to make (500 posts per request)\n",
    "        params (dict): dictionary of parameters to pass to the API excluding subreddit and size\n",
    "    \"\"\"\n",
    "    base_url = 'https://api.pushshift.io/reddit/search/submission'\n",
    "    p_string = '&'.join([f'{k}={v}' for k, v in params.items()])\n",
    "    \n",
    "    dfs = []\n",
    "    last_utc = None\n",
    "    for i in range(n):\n",
    "        if last_utc:\n",
    "            # update the p-string to get the next batch\n",
    "            params['before'] = last_utc\n",
    "            p_string = '&'.join([f'{k}={v}' for k, v in params.items()])\n",
    "        \n",
    "        response = requests.get(f'{base_url}?subreddit={subreddit}&size=500&{p_string}').json()\n",
    "        batch = pd.DataFrame(response['data'])\n",
    "        \n",
    "        # break if there are no more posts\n",
    "        if batch.empty:\n",
    "            break\n",
    "        \n",
    "        # store the utc of the oldest post in the batch to use\n",
    "        # as the before parameter for the next batch\n",
    "        last_utc = batch['created_utc'].min()\n",
    "        dfs.append(batch)\n",
    "        \n",
    "        # optional sleep statement to throttle requests\n",
    "        # time.sleep(1)\n",
    "    \n",
    "    return pd.concat(dfs).drop_duplicates(subset='title').reset_index(drop=True)"
   ]
  },
  {
   "attachments": {},
   "cell_type": "markdown",
   "metadata": {},
   "source": [
    "### Getting r/Consipracy posts"
   ]
  },
  {
   "cell_type": "code",
   "execution_count": 35,
   "metadata": {},
   "outputs": [],
   "source": [
    "subreddit = 'conspiracy'\n",
    "n = 50\n",
    "params = {'sort_type': 'score', 'metadata': False, 'after': '365d'}"
   ]
  },
  {
   "cell_type": "code",
   "execution_count": 36,
   "metadata": {},
   "outputs": [],
   "source": [
    "consp = get_posts(subreddit, n, params)"
   ]
  },
  {
   "cell_type": "code",
   "execution_count": 37,
   "metadata": {},
   "outputs": [
    {
     "name": "stdout",
     "output_type": "stream",
     "text": [
      "(23894, 97)\n"
     ]
    },
    {
     "data": {
      "text/html": [
       "<div>\n",
       "<style scoped>\n",
       "    .dataframe tbody tr th:only-of-type {\n",
       "        vertical-align: middle;\n",
       "    }\n",
       "\n",
       "    .dataframe tbody tr th {\n",
       "        vertical-align: top;\n",
       "    }\n",
       "\n",
       "    .dataframe thead th {\n",
       "        text-align: right;\n",
       "    }\n",
       "</style>\n",
       "<table border=\"1\" class=\"dataframe\">\n",
       "  <thead>\n",
       "    <tr style=\"text-align: right;\">\n",
       "      <th></th>\n",
       "      <th>subreddit</th>\n",
       "      <th>selftext</th>\n",
       "      <th>author_fullname</th>\n",
       "      <th>gilded</th>\n",
       "      <th>title</th>\n",
       "      <th>link_flair_richtext</th>\n",
       "      <th>subreddit_name_prefixed</th>\n",
       "      <th>hidden</th>\n",
       "      <th>pwls</th>\n",
       "      <th>link_flair_css_class</th>\n",
       "      <th>...</th>\n",
       "      <th>utc_datetime_str</th>\n",
       "      <th>url_overridden_by_dest</th>\n",
       "      <th>media_metadata</th>\n",
       "      <th>author_cakeday</th>\n",
       "      <th>is_gallery</th>\n",
       "      <th>gallery_data</th>\n",
       "      <th>link_flair_template_id</th>\n",
       "      <th>edited_on</th>\n",
       "      <th>crosspost_parent_list</th>\n",
       "      <th>crosspost_parent</th>\n",
       "    </tr>\n",
       "  </thead>\n",
       "  <tbody>\n",
       "    <tr>\n",
       "      <th>0</th>\n",
       "      <td>conspiracy</td>\n",
       "      <td>Video is here:  [https://youtu.be/tCuIxIJBfCY]...</td>\n",
       "      <td>t2_pa2n77y</td>\n",
       "      <td>0</td>\n",
       "      <td>Veteran's Advocate and 2A supporter Jon Stewar...</td>\n",
       "      <td>[]</td>\n",
       "      <td>r/conspiracy</td>\n",
       "      <td>False</td>\n",
       "      <td>0.0</td>\n",
       "      <td>None</td>\n",
       "      <td>...</td>\n",
       "      <td>2023-03-05 21:16:11</td>\n",
       "      <td>NaN</td>\n",
       "      <td>NaN</td>\n",
       "      <td>NaN</td>\n",
       "      <td>NaN</td>\n",
       "      <td>NaN</td>\n",
       "      <td>NaN</td>\n",
       "      <td>NaN</td>\n",
       "      <td>NaN</td>\n",
       "      <td>NaN</td>\n",
       "    </tr>\n",
       "  </tbody>\n",
       "</table>\n",
       "<p>1 rows × 97 columns</p>\n",
       "</div>"
      ],
      "text/plain": [
       "    subreddit                                           selftext  \\\n",
       "0  conspiracy  Video is here:  [https://youtu.be/tCuIxIJBfCY]...   \n",
       "\n",
       "  author_fullname  gilded                                              title  \\\n",
       "0      t2_pa2n77y       0  Veteran's Advocate and 2A supporter Jon Stewar...   \n",
       "\n",
       "  link_flair_richtext subreddit_name_prefixed  hidden  pwls  \\\n",
       "0                  []            r/conspiracy   False   0.0   \n",
       "\n",
       "  link_flair_css_class  ...     utc_datetime_str url_overridden_by_dest  \\\n",
       "0                 None  ...  2023-03-05 21:16:11                    NaN   \n",
       "\n",
       "   media_metadata  author_cakeday is_gallery  gallery_data  \\\n",
       "0             NaN             NaN        NaN           NaN   \n",
       "\n",
       "  link_flair_template_id edited_on  crosspost_parent_list crosspost_parent  \n",
       "0                    NaN       NaN                    NaN              NaN  \n",
       "\n",
       "[1 rows x 97 columns]"
      ]
     },
     "execution_count": 37,
     "metadata": {},
     "output_type": "execute_result"
    }
   ],
   "source": [
    "print(consp.shape)\n",
    "consp.head(1)"
   ]
  },
  {
   "cell_type": "code",
   "execution_count": 38,
   "metadata": {},
   "outputs": [
    {
     "data": {
      "text/plain": [
       "Index(['subreddit', 'selftext', 'author_fullname', 'gilded', 'title',\n",
       "       'link_flair_richtext', 'subreddit_name_prefixed', 'hidden', 'pwls',\n",
       "       'link_flair_css_class', 'thumbnail_height', 'top_awarded_type',\n",
       "       'hide_score', 'quarantine', 'link_flair_text_color', 'upvote_ratio',\n",
       "       'author_flair_background_color', 'subreddit_type',\n",
       "       'total_awards_received', 'media_embed', 'thumbnail_width',\n",
       "       'author_flair_template_id', 'is_original_content', 'secure_media',\n",
       "       'is_reddit_media_domain', 'is_meta', 'category', 'secure_media_embed',\n",
       "       'link_flair_text', 'score', 'is_created_from_ads_ui', 'author_premium',\n",
       "       'thumbnail', 'edited', 'author_flair_css_class',\n",
       "       'author_flair_richtext', 'gildings', 'post_hint', 'content_categories',\n",
       "       'is_self', 'link_flair_type', 'wls', 'removed_by_category',\n",
       "       'author_flair_type', 'domain', 'allow_live_comments', 'suggested_sort',\n",
       "       'view_count', 'archived', 'no_follow', 'is_crosspostable', 'pinned',\n",
       "       'over_18', 'preview', 'all_awardings', 'awarders', 'media_only',\n",
       "       'can_gild', 'spoiler', 'locked', 'author_flair_text', 'treatment_tags',\n",
       "       'removed_by', 'distinguished', 'subreddit_id',\n",
       "       'link_flair_background_color', 'id', 'is_robot_indexable', 'author',\n",
       "       'discussion_type', 'num_comments', 'send_replies', 'whitelist_status',\n",
       "       'contest_mode', 'author_patreon_flair', 'author_flair_text_color',\n",
       "       'permalink', 'parent_whitelist_status', 'stickied', 'url',\n",
       "       'subreddit_subscribers', 'created_utc', 'num_crossposts', 'media',\n",
       "       'is_video', 'retrieved_utc', 'updated_utc', 'utc_datetime_str',\n",
       "       'url_overridden_by_dest', 'media_metadata', 'author_cakeday',\n",
       "       'is_gallery', 'gallery_data', 'link_flair_template_id', 'edited_on',\n",
       "       'crosspost_parent_list', 'crosspost_parent'],\n",
       "      dtype='object')"
      ]
     },
     "execution_count": 38,
     "metadata": {},
     "output_type": "execute_result"
    }
   ],
   "source": [
    "consp.columns"
   ]
  },
  {
   "cell_type": "code",
   "execution_count": 39,
   "metadata": {},
   "outputs": [],
   "source": [
    "# Filter df and label data\n",
    "consp = consp[['selftext','title']]\n",
    "consp['conspiracy'] = 1"
   ]
  },
  {
   "cell_type": "code",
   "execution_count": 40,
   "metadata": {},
   "outputs": [
    {
     "data": {
      "text/plain": [
       "selftext      0\n",
       "title         0\n",
       "conspiracy    0\n",
       "dtype: int64"
      ]
     },
     "execution_count": 40,
     "metadata": {},
     "output_type": "execute_result"
    }
   ],
   "source": [
    "consp.isna().sum()"
   ]
  },
  {
   "cell_type": "code",
   "execution_count": 41,
   "metadata": {},
   "outputs": [
    {
     "data": {
      "text/plain": [
       "selftext      object\n",
       "title         object\n",
       "conspiracy     int64\n",
       "dtype: object"
      ]
     },
     "execution_count": 41,
     "metadata": {},
     "output_type": "execute_result"
    }
   ],
   "source": [
    "consp.dtypes"
   ]
  },
  {
   "cell_type": "code",
   "execution_count": 42,
   "metadata": {},
   "outputs": [
    {
     "data": {
      "text/plain": [
       "(8006, 3)"
      ]
     },
     "execution_count": 42,
     "metadata": {},
     "output_type": "execute_result"
    }
   ],
   "source": [
    "# remove posts with no text\n",
    "blank = (consp.selftext == '')\n",
    "removed = (consp.selftext == '[removed]')\n",
    "consp = consp.loc[~(blank | removed)]\n",
    "consp.shape"
   ]
  },
  {
   "attachments": {},
   "cell_type": "markdown",
   "metadata": {},
   "source": [
    "### Getting r/AskPhilosophy posts"
   ]
  },
  {
   "cell_type": "code",
   "execution_count": 43,
   "metadata": {},
   "outputs": [],
   "source": [
    "subreddit = 'askphilosophy'\n",
    "n = 50\n",
    "params = {\n",
    "    'sort_type': 'score',\n",
    "    'metadata': False,\n",
    "    'after': '365d',\n",
    "    'fields': 'selftext'\n",
    "}"
   ]
  },
  {
   "cell_type": "code",
   "execution_count": 44,
   "metadata": {},
   "outputs": [],
   "source": [
    "phil = get_posts(subreddit, n, params)"
   ]
  },
  {
   "cell_type": "code",
   "execution_count": 45,
   "metadata": {},
   "outputs": [
    {
     "name": "stdout",
     "output_type": "stream",
     "text": [
      "(5533, 91)\n"
     ]
    },
    {
     "data": {
      "text/html": [
       "<div>\n",
       "<style scoped>\n",
       "    .dataframe tbody tr th:only-of-type {\n",
       "        vertical-align: middle;\n",
       "    }\n",
       "\n",
       "    .dataframe tbody tr th {\n",
       "        vertical-align: top;\n",
       "    }\n",
       "\n",
       "    .dataframe thead th {\n",
       "        text-align: right;\n",
       "    }\n",
       "</style>\n",
       "<table border=\"1\" class=\"dataframe\">\n",
       "  <thead>\n",
       "    <tr style=\"text-align: right;\">\n",
       "      <th></th>\n",
       "      <th>subreddit</th>\n",
       "      <th>selftext</th>\n",
       "      <th>author_fullname</th>\n",
       "      <th>gilded</th>\n",
       "      <th>title</th>\n",
       "      <th>link_flair_richtext</th>\n",
       "      <th>subreddit_name_prefixed</th>\n",
       "      <th>hidden</th>\n",
       "      <th>pwls</th>\n",
       "      <th>link_flair_css_class</th>\n",
       "      <th>...</th>\n",
       "      <th>media</th>\n",
       "      <th>is_video</th>\n",
       "      <th>retrieved_utc</th>\n",
       "      <th>updated_utc</th>\n",
       "      <th>utc_datetime_str</th>\n",
       "      <th>post_hint</th>\n",
       "      <th>preview</th>\n",
       "      <th>edited_on</th>\n",
       "      <th>link_flair_template_id</th>\n",
       "      <th>author_cakeday</th>\n",
       "    </tr>\n",
       "  </thead>\n",
       "  <tbody>\n",
       "    <tr>\n",
       "      <th>0</th>\n",
       "      <td>askphilosophy</td>\n",
       "      <td>I've structed my life on a 'live and let live'...</td>\n",
       "      <td>t2_jrurtu4e</td>\n",
       "      <td>0</td>\n",
       "      <td>philosophical theory that addresses the idea t...</td>\n",
       "      <td>[]</td>\n",
       "      <td>r/askphilosophy</td>\n",
       "      <td>False</td>\n",
       "      <td>6</td>\n",
       "      <td>None</td>\n",
       "      <td>...</td>\n",
       "      <td>None</td>\n",
       "      <td>False</td>\n",
       "      <td>1678047314</td>\n",
       "      <td>1678047315</td>\n",
       "      <td>2023-03-05 20:14:59</td>\n",
       "      <td>NaN</td>\n",
       "      <td>NaN</td>\n",
       "      <td>NaN</td>\n",
       "      <td>NaN</td>\n",
       "      <td>NaN</td>\n",
       "    </tr>\n",
       "  </tbody>\n",
       "</table>\n",
       "<p>1 rows × 91 columns</p>\n",
       "</div>"
      ],
      "text/plain": [
       "       subreddit                                           selftext  \\\n",
       "0  askphilosophy  I've structed my life on a 'live and let live'...   \n",
       "\n",
       "  author_fullname  gilded                                              title  \\\n",
       "0     t2_jrurtu4e       0  philosophical theory that addresses the idea t...   \n",
       "\n",
       "  link_flair_richtext subreddit_name_prefixed  hidden  pwls  \\\n",
       "0                  []         r/askphilosophy   False     6   \n",
       "\n",
       "  link_flair_css_class  ... media is_video  retrieved_utc  updated_utc  \\\n",
       "0                 None  ...  None    False     1678047314   1678047315   \n",
       "\n",
       "      utc_datetime_str  post_hint preview edited_on  link_flair_template_id  \\\n",
       "0  2023-03-05 20:14:59        NaN     NaN       NaN                     NaN   \n",
       "\n",
       "  author_cakeday  \n",
       "0            NaN  \n",
       "\n",
       "[1 rows x 91 columns]"
      ]
     },
     "execution_count": 45,
     "metadata": {},
     "output_type": "execute_result"
    }
   ],
   "source": [
    "print(phil.shape)\n",
    "phil.head(1)"
   ]
  },
  {
   "cell_type": "code",
   "execution_count": 46,
   "metadata": {},
   "outputs": [
    {
     "data": {
      "text/plain": [
       "Index(['subreddit', 'selftext', 'author_fullname', 'gilded', 'title',\n",
       "       'link_flair_richtext', 'subreddit_name_prefixed', 'hidden', 'pwls',\n",
       "       'link_flair_css_class', 'thumbnail_height', 'top_awarded_type',\n",
       "       'hide_score', 'quarantine', 'link_flair_text_color', 'upvote_ratio',\n",
       "       'author_flair_background_color', 'subreddit_type',\n",
       "       'total_awards_received', 'media_embed', 'thumbnail_width',\n",
       "       'author_flair_template_id', 'is_original_content', 'secure_media',\n",
       "       'is_reddit_media_domain', 'is_meta', 'category', 'secure_media_embed',\n",
       "       'link_flair_text', 'score', 'is_created_from_ads_ui', 'author_premium',\n",
       "       'thumbnail', 'edited', 'author_flair_css_class',\n",
       "       'author_flair_richtext', 'gildings', 'content_categories', 'is_self',\n",
       "       'link_flair_type', 'wls', 'removed_by_category', 'author_flair_type',\n",
       "       'domain', 'allow_live_comments', 'suggested_sort', 'view_count',\n",
       "       'archived', 'no_follow', 'is_crosspostable', 'pinned', 'over_18',\n",
       "       'all_awardings', 'awarders', 'media_only', 'can_gild', 'spoiler',\n",
       "       'locked', 'author_flair_text', 'treatment_tags', 'removed_by',\n",
       "       'distinguished', 'subreddit_id', 'link_flair_background_color', 'id',\n",
       "       'is_robot_indexable', 'author', 'discussion_type', 'num_comments',\n",
       "       'send_replies', 'whitelist_status', 'contest_mode',\n",
       "       'author_patreon_flair', 'author_flair_text_color', 'permalink',\n",
       "       'parent_whitelist_status', 'stickied', 'url', 'subreddit_subscribers',\n",
       "       'created_utc', 'num_crossposts', 'media', 'is_video', 'retrieved_utc',\n",
       "       'updated_utc', 'utc_datetime_str', 'post_hint', 'preview', 'edited_on',\n",
       "       'link_flair_template_id', 'author_cakeday'],\n",
       "      dtype='object')"
      ]
     },
     "execution_count": 46,
     "metadata": {},
     "output_type": "execute_result"
    }
   ],
   "source": [
    "phil.columns"
   ]
  },
  {
   "cell_type": "code",
   "execution_count": 47,
   "metadata": {},
   "outputs": [],
   "source": [
    "phil = phil[['selftext','title']]\n",
    "phil['conspiracy'] = 0"
   ]
  },
  {
   "cell_type": "code",
   "execution_count": 48,
   "metadata": {},
   "outputs": [
    {
     "data": {
      "text/plain": [
       "selftext      0\n",
       "title         0\n",
       "conspiracy    0\n",
       "dtype: int64"
      ]
     },
     "execution_count": 48,
     "metadata": {},
     "output_type": "execute_result"
    }
   ],
   "source": [
    "phil.isna().sum()"
   ]
  },
  {
   "cell_type": "code",
   "execution_count": 49,
   "metadata": {},
   "outputs": [
    {
     "data": {
      "text/plain": [
       "(4450, 3)"
      ]
     },
     "execution_count": 49,
     "metadata": {},
     "output_type": "execute_result"
    }
   ],
   "source": [
    "# remove posts with no text\n",
    "blank = (phil.selftext == '')\n",
    "removed = (phil.selftext == '[removed]')\n",
    "phil = phil.loc[~(blank | removed)]\n",
    "phil.shape"
   ]
  },
  {
   "cell_type": "code",
   "execution_count": 50,
   "metadata": {},
   "outputs": [
    {
     "data": {
      "text/plain": [
       "(12456, 3)"
      ]
     },
     "execution_count": 50,
     "metadata": {},
     "output_type": "execute_result"
    }
   ],
   "source": [
    "out = pd.concat([consp, phil]).reset_index(drop=True)\n",
    "out.shape"
   ]
  },
  {
   "cell_type": "code",
   "execution_count": 51,
   "metadata": {},
   "outputs": [
    {
     "data": {
      "text/html": [
       "<div>\n",
       "<style scoped>\n",
       "    .dataframe tbody tr th:only-of-type {\n",
       "        vertical-align: middle;\n",
       "    }\n",
       "\n",
       "    .dataframe tbody tr th {\n",
       "        vertical-align: top;\n",
       "    }\n",
       "\n",
       "    .dataframe thead th {\n",
       "        text-align: right;\n",
       "    }\n",
       "</style>\n",
       "<table border=\"1\" class=\"dataframe\">\n",
       "  <thead>\n",
       "    <tr style=\"text-align: right;\">\n",
       "      <th></th>\n",
       "      <th>selftext</th>\n",
       "      <th>title</th>\n",
       "      <th>conspiracy</th>\n",
       "    </tr>\n",
       "  </thead>\n",
       "  <tbody>\n",
       "    <tr>\n",
       "      <th>0</th>\n",
       "      <td>Video is here:  [https://youtu.be/tCuIxIJBfCY]...</td>\n",
       "      <td>Veteran's Advocate and 2A supporter Jon Stewar...</td>\n",
       "      <td>1</td>\n",
       "    </tr>\n",
       "    <tr>\n",
       "      <th>1</th>\n",
       "      <td>I've stumbled on a Youtube channel I think is ...</td>\n",
       "      <td>I think I found a propaganda Youtube Channel</td>\n",
       "      <td>1</td>\n",
       "    </tr>\n",
       "    <tr>\n",
       "      <th>2</th>\n",
       "      <td>If you’re in the UK, you’ve probably seen the ...</td>\n",
       "      <td>Matt Hancock (UK senior politician turned show...</td>\n",
       "      <td>1</td>\n",
       "    </tr>\n",
       "    <tr>\n",
       "      <th>3</th>\n",
       "      <td>Anyone else get a 7 day ban from responding to...</td>\n",
       "      <td>Banned - Deleted topic</td>\n",
       "      <td>1</td>\n",
       "    </tr>\n",
       "    <tr>\n",
       "      <th>4</th>\n",
       "      <td>The FDA can 100% legally start genetically alt...</td>\n",
       "      <td>I learned the FDA is completely fine with comp...</td>\n",
       "      <td>1</td>\n",
       "    </tr>\n",
       "  </tbody>\n",
       "</table>\n",
       "</div>"
      ],
      "text/plain": [
       "                                            selftext  \\\n",
       "0  Video is here:  [https://youtu.be/tCuIxIJBfCY]...   \n",
       "1  I've stumbled on a Youtube channel I think is ...   \n",
       "2  If you’re in the UK, you’ve probably seen the ...   \n",
       "3  Anyone else get a 7 day ban from responding to...   \n",
       "4  The FDA can 100% legally start genetically alt...   \n",
       "\n",
       "                                               title  conspiracy  \n",
       "0  Veteran's Advocate and 2A supporter Jon Stewar...           1  \n",
       "1       I think I found a propaganda Youtube Channel           1  \n",
       "2  Matt Hancock (UK senior politician turned show...           1  \n",
       "3                             Banned - Deleted topic           1  \n",
       "4  I learned the FDA is completely fine with comp...           1  "
      ]
     },
     "execution_count": 51,
     "metadata": {},
     "output_type": "execute_result"
    }
   ],
   "source": [
    "out.head()"
   ]
  },
  {
   "attachments": {},
   "cell_type": "markdown",
   "metadata": {},
   "source": [
    "### Some slight cleaning "
   ]
  },
  {
   "cell_type": "code",
   "execution_count": 52,
   "metadata": {},
   "outputs": [],
   "source": [
    "out.selftext = out.selftext.str.replace('\\n', ' ').str.lower()"
   ]
  },
  {
   "attachments": {},
   "cell_type": "markdown",
   "metadata": {},
   "source": [
    "### Create a couple of features "
   ]
  },
  {
   "cell_type": "code",
   "execution_count": 53,
   "metadata": {},
   "outputs": [],
   "source": [
    "out['post_length'] = out.selftext.apply(lambda x: len(x))\n",
    "out['post_words'] = out.selftext.apply(lambda x: len(x.split()))"
   ]
  },
  {
   "cell_type": "code",
   "execution_count": 54,
   "metadata": {},
   "outputs": [],
   "source": [
    "out['title_length'] = out.title.apply(lambda x: len(x))\n",
    "out['title_words'] = out.title.apply(lambda x: len(x.split()))"
   ]
  },
  {
   "attachments": {},
   "cell_type": "markdown",
   "metadata": {},
   "source": [
    "## Save data"
   ]
  },
  {
   "cell_type": "code",
   "execution_count": 55,
   "metadata": {},
   "outputs": [],
   "source": [
    "out.to_csv('data/raw_data.csv', index=False)"
   ]
  }
 ],
 "metadata": {
  "kernelspec": {
   "display_name": "base",
   "language": "python",
   "name": "python3"
  },
  "language_info": {
   "codemirror_mode": {
    "name": "ipython",
    "version": 3
   },
   "file_extension": ".py",
   "mimetype": "text/x-python",
   "name": "python",
   "nbconvert_exporter": "python",
   "pygments_lexer": "ipython3",
   "version": "3.9.13"
  },
  "orig_nbformat": 4,
  "vscode": {
   "interpreter": {
    "hash": "b3c7b07dae44ced03ae164a813c56a3bbf965db406ab962c1a4ad4a98feef9e4"
   }
  }
 },
 "nbformat": 4,
 "nbformat_minor": 2
}
